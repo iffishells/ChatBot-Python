{
 "cells": [
  {
   "cell_type": "code",
   "execution_count": 27,
   "id": "fd15249d-3d8a-4b8f-8681-705479b83dfe",
   "metadata": {},
   "outputs": [],
   "source": [
    "# use dictionary to represent the intents tags\n",
    "\n",
    "Data  = {\n",
    "    \"intents\" : [\n",
    "        {\n",
    "            \"tag\" : \"greeting\",\n",
    "            \"pattern\" : [\"Hello\",\"How are you?\", \"Hi there\", \"Hi\", \"Whats up\" ],\n",
    "            \"responses\" : [\"Howdy Partner!\", \"Hello\", \"How are you doing?\", \"Greetings!\", \"How do you do?\"]\n",
    "        },\n",
    "        \n",
    "        {\n",
    "        \"tag\" : \"age\",\n",
    "        \"pattern\" : [\"how old are you?\", \"when is your birthday?\", \"when was you born?\"],\n",
    "        \"responses\" : [\"I am 24 years old\", \"I was born in 1996\", \"My birthday is July 3rd and I was born in 1996\", \"03/07/1996\"],\n",
    "        },\n",
    "        \n",
    "        {\n",
    "            \"tag\" : \"date\",\n",
    "            \"pattern\" : [\"what are you doing this weekend?\",\n",
    "                            \"do you want to hang out some time?\", \"what are your plans for this week\"],\n",
    "            \"responses\" : [\"I am available all week\", \"I don't have any plans\", \"I am not busy\"]\n",
    "        },\n",
    "        {\n",
    "            \"tag\" : \"name\",\n",
    "            \"pattern\" : [\"what's your name?\", \"what are you called?\", \"who are you?\"],\n",
    "            \"responses\" : [\"My name is Kippi\", \"I'm Kippi\", \"Kippi\"]\n",
    "        },\n",
    "        {\n",
    "            \"tag\" : \"goodbye\",\n",
    "            \"pattern\" : [\"bye\", \"g2g\", \"see ya\", \"adios\", \"cya\"],\n",
    "            \"responses\" : [\"It was nice speaking to you\", \"See you later\", \"Speak soon!\"]\n",
    "        }\n",
    "    ]\n",
    "}\n",
    "    "
   ]
  },
  {
   "cell_type": "code",
   "execution_count": 28,
   "id": "844caeff-9f2d-44be-87dd-75868581077b",
   "metadata": {},
   "outputs": [
    {
     "data": {
      "text/plain": [
       "{'intents': [{'tag': 'greeting',\n",
       "   'pattern': ['Hello', 'How are you?', 'Hi there', 'Hi', 'Whats up'],\n",
       "   'responses': ['Howdy Partner!',\n",
       "    'Hello',\n",
       "    'How are you doing?',\n",
       "    'Greetings!',\n",
       "    'How do you do?']},\n",
       "  {'tag': 'age',\n",
       "   'pattern': ['how old are you?',\n",
       "    'when is your birthday?',\n",
       "    'when was you born?'],\n",
       "   'responses': ['I am 24 years old',\n",
       "    'I was born in 1996',\n",
       "    'My birthday is July 3rd and I was born in 1996',\n",
       "    '03/07/1996']},\n",
       "  {'tag': 'date',\n",
       "   'pattern': ['what are you doing this weekend?',\n",
       "    'do you want to hang out some time?',\n",
       "    'what are your plans for this week'],\n",
       "   'responses': ['I am available all week',\n",
       "    \"I don't have any plans\",\n",
       "    'I am not busy']},\n",
       "  {'tag': 'name',\n",
       "   'pattern': [\"what's your name?\", 'what are you called?', 'who are you?'],\n",
       "   'responses': ['My name is Kippi', \"I'm Kippi\", 'Kippi']},\n",
       "  {'tag': 'goodbye',\n",
       "   'pattern': ['bye', 'g2g', 'see ya', 'adios', 'cya'],\n",
       "   'responses': ['It was nice speaking to you',\n",
       "    'See you later',\n",
       "    'Speak soon!']}]}"
      ]
     },
     "execution_count": 28,
     "metadata": {},
     "output_type": "execute_result"
    }
   ],
   "source": [
    "Data"
   ]
  },
  {
   "cell_type": "code",
   "execution_count": 29,
   "id": "2755abfb-ff02-40c4-844c-fc3dc08a2757",
   "metadata": {},
   "outputs": [
    {
     "data": {
      "text/plain": [
       "[{'tag': 'greeting',\n",
       "  'pattern': ['Hello', 'How are you?', 'Hi there', 'Hi', 'Whats up'],\n",
       "  'responses': ['Howdy Partner!',\n",
       "   'Hello',\n",
       "   'How are you doing?',\n",
       "   'Greetings!',\n",
       "   'How do you do?']},\n",
       " {'tag': 'age',\n",
       "  'pattern': ['how old are you?',\n",
       "   'when is your birthday?',\n",
       "   'when was you born?'],\n",
       "  'responses': ['I am 24 years old',\n",
       "   'I was born in 1996',\n",
       "   'My birthday is July 3rd and I was born in 1996',\n",
       "   '03/07/1996']},\n",
       " {'tag': 'date',\n",
       "  'pattern': ['what are you doing this weekend?',\n",
       "   'do you want to hang out some time?',\n",
       "   'what are your plans for this week'],\n",
       "  'responses': ['I am available all week',\n",
       "   \"I don't have any plans\",\n",
       "   'I am not busy']},\n",
       " {'tag': 'name',\n",
       "  'pattern': [\"what's your name?\", 'what are you called?', 'who are you?'],\n",
       "  'responses': ['My name is Kippi', \"I'm Kippi\", 'Kippi']},\n",
       " {'tag': 'goodbye',\n",
       "  'pattern': ['bye', 'g2g', 'see ya', 'adios', 'cya'],\n",
       "  'responses': ['It was nice speaking to you',\n",
       "   'See you later',\n",
       "   'Speak soon!']}]"
      ]
     },
     "execution_count": 29,
     "metadata": {},
     "output_type": "execute_result"
    }
   ],
   "source": [
    "Data['intents']"
   ]
  },
  {
   "cell_type": "code",
   "execution_count": 30,
   "id": "1fa7af44-39c3-4836-9f5e-270df4cfc0fa",
   "metadata": {},
   "outputs": [
    {
     "data": {
      "text/plain": [
       "5"
      ]
     },
     "execution_count": 30,
     "metadata": {},
     "output_type": "execute_result"
    }
   ],
   "source": [
    "len(Data['intents'])"
   ]
  },
  {
   "cell_type": "code",
   "execution_count": 31,
   "id": "e0282662-3dc2-41d2-a194-2374956938ce",
   "metadata": {},
   "outputs": [
    {
     "name": "stderr",
     "output_type": "stream",
     "text": [
      "[nltk_data] Downloading package punkt to /home/iffishells/nltk_data...\n",
      "[nltk_data]   Package punkt is already up-to-date!\n",
      "[nltk_data] Downloading package wordnet to\n",
      "[nltk_data]     /home/iffishells/nltk_data...\n",
      "[nltk_data]   Package wordnet is already up-to-date!\n"
     ]
    },
    {
     "data": {
      "text/plain": [
       "True"
      ]
     },
     "execution_count": 31,
     "metadata": {},
     "output_type": "execute_result"
    }
   ],
   "source": [
    "import json\n",
    "import string\n",
    "import random \n",
    "\n",
    "import nltk\n",
    "import numpy as np\n",
    "from nltk.stem import WordNetLemmatizer\n",
    "\n",
    "import tensorflow as tf\n",
    "from tensorflow.keras import Sequential\n",
    "from tensorflow.keras.layers import Dense , Dropout\n",
    "\n",
    "\n",
    "nltk.download(\"punkt\")\n",
    "nltk.download(\"wordnet\")"
   ]
  },
  {
   "cell_type": "code",
   "execution_count": 34,
   "id": "1aee44ba-a90c-49fa-89e2-c6a83347f79b",
   "metadata": {},
   "outputs": [],
   "source": [
    "## initializing lemmatizer to get the stem of the word\n",
    "\n",
    "lemmatizer = WordNetLemmatizer()\n",
    "\n",
    "\n",
    "# each list to create \n",
    "words = []\n",
    "classes = []\n",
    "doc_x = []\n",
    "doc_y = []\n",
    "\n",
    "# loop thorught all the intents\n",
    "# tokenize eacch pattern and append in the token to words the pattern and the associated tag to their associated list\n",
    "\n",
    "\n",
    "for intent in Data['intents']:\n",
    "#     print( \"Tag \" ,intent[\"tag\"])\n",
    "    for pattern in intent['pattern']:\n",
    "#         print(pattern)\n",
    "        token = nltk.word_tokenize(pattern)\n",
    "#         words.append(token)\n",
    "        doc_x.append(pattern)\n",
    "        doc_y.append(intent[\"tag\"])\n",
    "        \n",
    "        ## add the tag to the class if not there already\n",
    "        \n",
    "        if intent['tag'] not in classes:\n",
    "            classes.append(intent[\"tag\"])\n",
    "            \n",
    "    "
   ]
  },
  {
   "cell_type": "code",
   "execution_count": 47,
   "id": "dfb010ab-6560-42ed-97fa-73cafc056046",
   "metadata": {},
   "outputs": [
    {
     "name": "stdout",
     "output_type": "stream",
     "text": [
      "[['Hello'], ['How', 'are', 'you', '?'], ['Hi', 'there'], ['Hi'], ['Whats', 'up'], ['how', 'old', 'are', 'you', '?'], ['when', 'is', 'your', 'birthday', '?'], ['when', 'was', 'you', 'born', '?'], ['what', 'are', 'you', 'doing', 'this', 'weekend', '?'], ['do', 'you', 'want', 'to', 'hang', 'out', 'some', 'time', '?'], ['what', 'are', 'your', 'plans', 'for', 'this', 'week'], ['what', \"'s\", 'your', 'name', '?'], ['what', 'are', 'you', 'called', '?'], ['who', 'are', 'you', '?'], ['bye'], ['g2g'], ['see', 'ya'], ['adios'], ['cya']]\n"
     ]
    }
   ],
   "source": [
    "## pre -processing\n",
    "## remove the puncation \n",
    "## stay aay from the capital letter\n",
    "\n",
    "print(words)"
   ]
  },
  {
   "cell_type": "code",
   "execution_count": 48,
   "id": "c9070aa4-bd25-41f4-bb8b-082bd61d95b8",
   "metadata": {},
   "outputs": [],
   "source": [
    "# words = [lemmatizer.lemmatize(word.lower()) for word in words ]\n",
    "list_words = []\n",
    "for word in words:\n",
    "    for w in word:\n",
    "        if w not in string.punctuation:\n",
    "            temp=lemmatizer.lemmatize(w.lower())\n",
    "            ## print(temp)\n",
    "            list_words.append(temp)\n",
    "            "
   ]
  },
  {
   "cell_type": "code",
   "execution_count": 49,
   "id": "3e8a3f8e-fd5f-43e4-9f7f-2461bb12abd8",
   "metadata": {},
   "outputs": [],
   "source": [
    "words = sorted(set(list_words))\n",
    "\n",
    "classes = sorted(set(classes))"
   ]
  },
  {
   "cell_type": "code",
   "execution_count": 50,
   "id": "2a630f4c-d383-4a65-8d35-21468b3361c9",
   "metadata": {},
   "outputs": [
    {
     "data": {
      "text/plain": [
       "[\"'s\",\n",
       " 'adios',\n",
       " 'are',\n",
       " 'birthday',\n",
       " 'born',\n",
       " 'bye',\n",
       " 'called',\n",
       " 'cya',\n",
       " 'do',\n",
       " 'doing',\n",
       " 'for',\n",
       " 'g2g',\n",
       " 'hang',\n",
       " 'hello',\n",
       " 'hi',\n",
       " 'how',\n",
       " 'is',\n",
       " 'name',\n",
       " 'old',\n",
       " 'out',\n",
       " 'plan',\n",
       " 'see',\n",
       " 'some',\n",
       " 'there',\n",
       " 'this',\n",
       " 'time',\n",
       " 'to',\n",
       " 'up',\n",
       " 'wa',\n",
       " 'want',\n",
       " 'week',\n",
       " 'weekend',\n",
       " 'what',\n",
       " 'whats',\n",
       " 'when',\n",
       " 'who',\n",
       " 'ya',\n",
       " 'you',\n",
       " 'your']"
      ]
     },
     "execution_count": 50,
     "metadata": {},
     "output_type": "execute_result"
    }
   ],
   "source": [
    "words"
   ]
  },
  {
   "cell_type": "code",
   "execution_count": 51,
   "id": "d928978d-1dca-4cf7-b566-5d0acbcabd18",
   "metadata": {},
   "outputs": [
    {
     "name": "stdout",
     "output_type": "stream",
     "text": [
      "['age', 'date', 'goodbye', 'greeting', 'name']\n"
     ]
    }
   ],
   "source": [
    "print(classes)"
   ]
  },
  {
   "cell_type": "code",
   "execution_count": 52,
   "id": "ca17d024-5aa8-49e0-9f1a-627e2429f77b",
   "metadata": {},
   "outputs": [
    {
     "name": "stdout",
     "output_type": "stream",
     "text": [
      "['Hello', 'How are you?', 'Hi there', 'Hi', 'Whats up', 'how old are you?', 'when is your birthday?', 'when was you born?', 'what are you doing this weekend?', 'do you want to hang out some time?', 'what are your plans for this week', \"what's your name?\", 'what are you called?', 'who are you?', 'bye', 'g2g', 'see ya', 'adios', 'cya']\n"
     ]
    }
   ],
   "source": [
    "print(doc_x)"
   ]
  },
  {
   "cell_type": "code",
   "execution_count": 53,
   "id": "99bcdd45-ce93-4cff-b19a-acd800d17c62",
   "metadata": {},
   "outputs": [
    {
     "name": "stdout",
     "output_type": "stream",
     "text": [
      "['greeting', 'greeting', 'greeting', 'greeting', 'greeting', 'age', 'age', 'age', 'date', 'date', 'date', 'name', 'name', 'name', 'goodbye', 'goodbye', 'goodbye', 'goodbye', 'goodbye']\n"
     ]
    }
   ],
   "source": [
    "print(doc_y)"
   ]
  },
  {
   "cell_type": "code",
   "execution_count": 57,
   "id": "597faa23-58ee-4645-b361-05139fe04965",
   "metadata": {},
   "outputs": [],
   "source": [
    "training = []\n",
    "\n",
    "out_empty = [0] * len(classes)\n",
    "\n",
    "## checking the bag of ords model\n",
    "\n",
    "for idx , doc in enumerate(doc_x):\n",
    "    bow = []\n",
    "    text = lemmatizer.lemmatize(doc.lower())\n",
    "    for word in words:\n",
    "        if word in text:\n",
    "            bow.append(1)\n",
    "        else:\n",
    "            bow.append(0)\n",
    "            \n",
    "            \n",
    "    ## mark the index of the class that the current pattern is associated\n",
    "    # to \n",
    "    output_row =  list(out_empty)\n",
    "    output_row[classes.index(doc_y[idx])] = 1\n",
    "    \n",
    "    ## add theone hot encoded bow and associatd classses to trainging\n",
    "    \n",
    "    \n",
    "    training.append([bow,output_row])\n",
    "    \n",
    "## shuffle the data and convert it to ny array \n",
    "random.shuffle(training)\n",
    "training = np.array(training,dtype = object)\n",
    "\n",
    "## split the deatures and target the labels\n",
    "\n",
    "\n",
    "train_x = np.array(list(training[:,0]))\n",
    "train_y = np.array(list(training[:,1]))\n"
   ]
  },
  {
   "cell_type": "code",
   "execution_count": 60,
   "id": "cf818828-382a-477a-8862-ae6e4dd20700",
   "metadata": {},
   "outputs": [
    {
     "name": "stdout",
     "output_type": "stream",
     "text": [
      "<bound method Model.summary of <tensorflow.python.keras.engine.sequential.Sequential object at 0x7f381815ec10>>\n",
      "Epoch 1/200\n",
      "1/1 [==============================] - 0s 469ms/step - loss: 1.6588 - accuracy: 0.0526\n",
      "Epoch 2/200\n",
      "1/1 [==============================] - 0s 2ms/step - loss: 1.4721 - accuracy: 0.3684\n",
      "Epoch 3/200\n",
      "1/1 [==============================] - 0s 3ms/step - loss: 1.4277 - accuracy: 0.4211\n",
      "Epoch 4/200\n",
      "1/1 [==============================] - 0s 6ms/step - loss: 1.2861 - accuracy: 0.5789\n",
      "Epoch 5/200\n",
      "1/1 [==============================] - 0s 5ms/step - loss: 1.1634 - accuracy: 0.8947\n",
      "Epoch 6/200\n",
      "1/1 [==============================] - 0s 3ms/step - loss: 1.0262 - accuracy: 0.8421\n",
      "Epoch 7/200\n",
      "1/1 [==============================] - 0s 3ms/step - loss: 0.9838 - accuracy: 0.6842\n",
      "Epoch 8/200\n",
      "1/1 [==============================] - 0s 4ms/step - loss: 0.9138 - accuracy: 0.9474\n",
      "Epoch 9/200\n",
      "1/1 [==============================] - 0s 2ms/step - loss: 0.6365 - accuracy: 0.9474\n",
      "Epoch 10/200\n",
      "1/1 [==============================] - 0s 2ms/step - loss: 0.6482 - accuracy: 0.8947\n",
      "Epoch 11/200\n",
      "1/1 [==============================] - 0s 3ms/step - loss: 0.4539 - accuracy: 1.0000\n",
      "Epoch 12/200\n",
      "1/1 [==============================] - 0s 2ms/step - loss: 0.3444 - accuracy: 0.9474\n",
      "Epoch 13/200\n",
      "1/1 [==============================] - 0s 4ms/step - loss: 0.2915 - accuracy: 1.0000\n",
      "Epoch 14/200\n",
      "1/1 [==============================] - 0s 4ms/step - loss: 0.1462 - accuracy: 1.0000\n",
      "Epoch 15/200\n",
      "1/1 [==============================] - 0s 12ms/step - loss: 0.1962 - accuracy: 1.0000\n",
      "Epoch 16/200\n",
      "1/1 [==============================] - 0s 4ms/step - loss: 0.2523 - accuracy: 0.8947\n",
      "Epoch 17/200\n",
      "1/1 [==============================] - 0s 4ms/step - loss: 0.1955 - accuracy: 0.9474\n",
      "Epoch 18/200\n",
      "1/1 [==============================] - 0s 3ms/step - loss: 0.1243 - accuracy: 1.0000\n",
      "Epoch 19/200\n",
      "1/1 [==============================] - 0s 3ms/step - loss: 0.0869 - accuracy: 1.0000\n",
      "Epoch 20/200\n",
      "1/1 [==============================] - 0s 3ms/step - loss: 0.0685 - accuracy: 1.0000\n",
      "Epoch 21/200\n",
      "1/1 [==============================] - 0s 2ms/step - loss: 0.0878 - accuracy: 0.9474\n",
      "Epoch 22/200\n",
      "1/1 [==============================] - 0s 3ms/step - loss: 0.0217 - accuracy: 1.0000\n",
      "Epoch 23/200\n",
      "1/1 [==============================] - 0s 3ms/step - loss: 0.0234 - accuracy: 1.0000\n",
      "Epoch 24/200\n",
      "1/1 [==============================] - 0s 3ms/step - loss: 0.1926 - accuracy: 0.8947\n",
      "Epoch 25/200\n",
      "1/1 [==============================] - 0s 2ms/step - loss: 0.0899 - accuracy: 1.0000\n",
      "Epoch 26/200\n",
      "1/1 [==============================] - 0s 2ms/step - loss: 0.0740 - accuracy: 0.9474\n",
      "Epoch 27/200\n",
      "1/1 [==============================] - 0s 2ms/step - loss: 0.0358 - accuracy: 1.0000\n",
      "Epoch 28/200\n",
      "1/1 [==============================] - 0s 2ms/step - loss: 0.0616 - accuracy: 0.9474\n",
      "Epoch 29/200\n",
      "1/1 [==============================] - 0s 2ms/step - loss: 0.0192 - accuracy: 1.0000\n",
      "Epoch 30/200\n",
      "1/1 [==============================] - 0s 2ms/step - loss: 0.0676 - accuracy: 0.9474\n",
      "Epoch 31/200\n",
      "1/1 [==============================] - 0s 3ms/step - loss: 0.0029 - accuracy: 1.0000\n",
      "Epoch 32/200\n",
      "1/1 [==============================] - 0s 4ms/step - loss: 0.0042 - accuracy: 1.0000\n",
      "Epoch 33/200\n",
      "1/1 [==============================] - 0s 4ms/step - loss: 0.0203 - accuracy: 1.0000\n",
      "Epoch 34/200\n",
      "1/1 [==============================] - 0s 6ms/step - loss: 0.0913 - accuracy: 0.9474\n",
      "Epoch 35/200\n",
      "1/1 [==============================] - 0s 4ms/step - loss: 0.0228 - accuracy: 1.0000\n",
      "Epoch 36/200\n",
      "1/1 [==============================] - 0s 3ms/step - loss: 0.0037 - accuracy: 1.0000\n",
      "Epoch 37/200\n",
      "1/1 [==============================] - 0s 3ms/step - loss: 0.0015 - accuracy: 1.0000\n",
      "Epoch 38/200\n",
      "1/1 [==============================] - 0s 3ms/step - loss: 6.2178e-04 - accuracy: 1.0000\n",
      "Epoch 39/200\n",
      "1/1 [==============================] - 0s 3ms/step - loss: 0.0024 - accuracy: 1.0000\n",
      "Epoch 40/200\n",
      "1/1 [==============================] - 0s 3ms/step - loss: 0.0032 - accuracy: 1.0000\n",
      "Epoch 41/200\n",
      "1/1 [==============================] - 0s 2ms/step - loss: 9.3926e-04 - accuracy: 1.0000\n",
      "Epoch 42/200\n",
      "1/1 [==============================] - 0s 3ms/step - loss: 0.0011 - accuracy: 1.0000\n",
      "Epoch 43/200\n",
      "1/1 [==============================] - 0s 3ms/step - loss: 0.0134 - accuracy: 1.0000\n",
      "Epoch 44/200\n",
      "1/1 [==============================] - 0s 3ms/step - loss: 0.0018 - accuracy: 1.0000\n",
      "Epoch 45/200\n",
      "1/1 [==============================] - 0s 4ms/step - loss: 0.0017 - accuracy: 1.0000\n",
      "Epoch 46/200\n",
      "1/1 [==============================] - 0s 2ms/step - loss: 0.0114 - accuracy: 1.0000\n",
      "Epoch 47/200\n",
      "1/1 [==============================] - 0s 2ms/step - loss: 2.3751e-04 - accuracy: 1.0000\n",
      "Epoch 48/200\n",
      "1/1 [==============================] - 0s 2ms/step - loss: 0.0203 - accuracy: 1.0000\n",
      "Epoch 49/200\n",
      "1/1 [==============================] - 0s 3ms/step - loss: 0.0052 - accuracy: 1.0000\n",
      "Epoch 50/200\n",
      "1/1 [==============================] - 0s 3ms/step - loss: 2.1111e-04 - accuracy: 1.0000\n",
      "Epoch 51/200\n",
      "1/1 [==============================] - 0s 3ms/step - loss: 3.2065e-04 - accuracy: 1.0000\n",
      "Epoch 52/200\n",
      "1/1 [==============================] - 0s 2ms/step - loss: 0.0012 - accuracy: 1.0000\n",
      "Epoch 53/200\n",
      "1/1 [==============================] - 0s 2ms/step - loss: 0.0024 - accuracy: 1.0000\n",
      "Epoch 54/200\n",
      "1/1 [==============================] - 0s 2ms/step - loss: 0.0080 - accuracy: 1.0000\n",
      "Epoch 55/200\n",
      "1/1 [==============================] - 0s 2ms/step - loss: 0.0025 - accuracy: 1.0000\n",
      "Epoch 56/200\n",
      "1/1 [==============================] - 0s 2ms/step - loss: 9.7306e-04 - accuracy: 1.0000\n",
      "Epoch 57/200\n",
      "1/1 [==============================] - 0s 2ms/step - loss: 0.0012 - accuracy: 1.0000\n",
      "Epoch 58/200\n",
      "1/1 [==============================] - 0s 2ms/step - loss: 7.8186e-04 - accuracy: 1.0000\n",
      "Epoch 59/200\n",
      "1/1 [==============================] - 0s 3ms/step - loss: 1.7962e-04 - accuracy: 1.0000\n",
      "Epoch 60/200\n",
      "1/1 [==============================] - 0s 3ms/step - loss: 9.3712e-04 - accuracy: 1.0000\n",
      "Epoch 61/200\n",
      "1/1 [==============================] - 0s 3ms/step - loss: 8.4951e-04 - accuracy: 1.0000\n",
      "Epoch 62/200\n",
      "1/1 [==============================] - 0s 2ms/step - loss: 0.0026 - accuracy: 1.0000\n",
      "Epoch 63/200\n",
      "1/1 [==============================] - 0s 2ms/step - loss: 6.7599e-04 - accuracy: 1.0000\n",
      "Epoch 64/200\n",
      "1/1 [==============================] - 0s 2ms/step - loss: 0.0795 - accuracy: 0.9474\n",
      "Epoch 65/200\n",
      "1/1 [==============================] - 0s 2ms/step - loss: 0.0041 - accuracy: 1.0000\n",
      "Epoch 66/200\n",
      "1/1 [==============================] - 0s 2ms/step - loss: 0.0234 - accuracy: 1.0000\n",
      "Epoch 67/200\n",
      "1/1 [==============================] - 0s 3ms/step - loss: 2.7643e-04 - accuracy: 1.0000\n",
      "Epoch 68/200\n",
      "1/1 [==============================] - 0s 5ms/step - loss: 0.0102 - accuracy: 1.0000\n",
      "Epoch 69/200\n",
      "1/1 [==============================] - 0s 8ms/step - loss: 1.3639e-04 - accuracy: 1.0000\n",
      "Epoch 70/200\n",
      "1/1 [==============================] - 0s 12ms/step - loss: 0.0011 - accuracy: 1.0000\n",
      "Epoch 71/200\n",
      "1/1 [==============================] - 0s 6ms/step - loss: 8.9851e-04 - accuracy: 1.0000\n",
      "Epoch 72/200\n",
      "1/1 [==============================] - 0s 6ms/step - loss: 0.0036 - accuracy: 1.0000\n",
      "Epoch 73/200\n",
      "1/1 [==============================] - 0s 6ms/step - loss: 0.0132 - accuracy: 1.0000\n",
      "Epoch 74/200\n",
      "1/1 [==============================] - 0s 6ms/step - loss: 0.0048 - accuracy: 1.0000\n",
      "Epoch 75/200\n",
      "1/1 [==============================] - 0s 6ms/step - loss: 2.3108e-04 - accuracy: 1.0000\n",
      "Epoch 76/200\n",
      "1/1 [==============================] - 0s 5ms/step - loss: 0.0730 - accuracy: 0.9474\n",
      "Epoch 77/200\n",
      "1/1 [==============================] - 0s 6ms/step - loss: 1.4513e-04 - accuracy: 1.0000\n",
      "Epoch 78/200\n",
      "1/1 [==============================] - 0s 3ms/step - loss: 6.3060e-04 - accuracy: 1.0000\n",
      "Epoch 79/200\n",
      "1/1 [==============================] - 0s 3ms/step - loss: 0.0030 - accuracy: 1.0000\n",
      "Epoch 80/200\n",
      "1/1 [==============================] - 0s 3ms/step - loss: 7.7457e-04 - accuracy: 1.0000\n",
      "Epoch 81/200\n",
      "1/1 [==============================] - 0s 2ms/step - loss: 6.9730e-04 - accuracy: 1.0000\n",
      "Epoch 82/200\n",
      "1/1 [==============================] - 0s 3ms/step - loss: 0.0010 - accuracy: 1.0000\n",
      "Epoch 83/200\n",
      "1/1 [==============================] - 0s 3ms/step - loss: 0.0130 - accuracy: 1.0000\n",
      "Epoch 84/200\n",
      "1/1 [==============================] - 0s 2ms/step - loss: 6.7004e-04 - accuracy: 1.0000\n",
      "Epoch 85/200\n",
      "1/1 [==============================] - 0s 2ms/step - loss: 4.9650e-04 - accuracy: 1.0000\n",
      "Epoch 86/200\n",
      "1/1 [==============================] - 0s 3ms/step - loss: 6.7529e-04 - accuracy: 1.0000\n",
      "Epoch 87/200\n",
      "1/1 [==============================] - 0s 2ms/step - loss: 0.0409 - accuracy: 1.0000\n",
      "Epoch 88/200\n",
      "1/1 [==============================] - 0s 3ms/step - loss: 0.0094 - accuracy: 1.0000\n",
      "Epoch 89/200\n",
      "1/1 [==============================] - 0s 4ms/step - loss: 0.0358 - accuracy: 1.0000\n",
      "Epoch 90/200\n",
      "1/1 [==============================] - 0s 4ms/step - loss: 0.0016 - accuracy: 1.0000\n",
      "Epoch 91/200\n",
      "1/1 [==============================] - 0s 3ms/step - loss: 6.4771e-04 - accuracy: 1.0000\n",
      "Epoch 92/200\n",
      "1/1 [==============================] - 0s 3ms/step - loss: 0.0028 - accuracy: 1.0000\n",
      "Epoch 93/200\n",
      "1/1 [==============================] - 0s 3ms/step - loss: 0.0016 - accuracy: 1.0000\n",
      "Epoch 94/200\n",
      "1/1 [==============================] - 0s 2ms/step - loss: 0.0017 - accuracy: 1.0000\n",
      "Epoch 95/200\n",
      "1/1 [==============================] - 0s 3ms/step - loss: 0.0018 - accuracy: 1.0000\n",
      "Epoch 96/200\n",
      "1/1 [==============================] - 0s 2ms/step - loss: 8.2089e-04 - accuracy: 1.0000\n",
      "Epoch 97/200\n",
      "1/1 [==============================] - 0s 4ms/step - loss: 1.3198e-04 - accuracy: 1.0000\n",
      "Epoch 98/200\n",
      "1/1 [==============================] - 0s 5ms/step - loss: 8.7408e-04 - accuracy: 1.0000\n",
      "Epoch 99/200\n",
      "1/1 [==============================] - 0s 3ms/step - loss: 0.0360 - accuracy: 1.0000\n",
      "Epoch 100/200\n",
      "1/1 [==============================] - 0s 3ms/step - loss: 0.0165 - accuracy: 1.0000\n",
      "Epoch 101/200\n",
      "1/1 [==============================] - 0s 3ms/step - loss: 0.0455 - accuracy: 1.0000\n",
      "Epoch 102/200\n",
      "1/1 [==============================] - 0s 4ms/step - loss: 0.0012 - accuracy: 1.0000\n",
      "Epoch 103/200\n",
      "1/1 [==============================] - 0s 3ms/step - loss: 0.0025 - accuracy: 1.0000\n",
      "Epoch 104/200\n",
      "1/1 [==============================] - 0s 4ms/step - loss: 0.0013 - accuracy: 1.0000\n",
      "Epoch 105/200\n",
      "1/1 [==============================] - 0s 6ms/step - loss: 0.0013 - accuracy: 1.0000\n",
      "Epoch 106/200\n",
      "1/1 [==============================] - 0s 6ms/step - loss: 3.1247e-04 - accuracy: 1.0000\n",
      "Epoch 107/200\n",
      "1/1 [==============================] - 0s 4ms/step - loss: 0.0021 - accuracy: 1.0000\n",
      "Epoch 108/200\n",
      "1/1 [==============================] - 0s 7ms/step - loss: 2.1594e-04 - accuracy: 1.0000\n",
      "Epoch 109/200\n",
      "1/1 [==============================] - 0s 5ms/step - loss: 0.0042 - accuracy: 1.0000\n",
      "Epoch 110/200\n",
      "1/1 [==============================] - 0s 3ms/step - loss: 0.0021 - accuracy: 1.0000\n",
      "Epoch 111/200\n",
      "1/1 [==============================] - 0s 3ms/step - loss: 4.2633e-04 - accuracy: 1.0000\n",
      "Epoch 112/200\n",
      "1/1 [==============================] - 0s 2ms/step - loss: 4.5501e-04 - accuracy: 1.0000\n",
      "Epoch 113/200\n",
      "1/1 [==============================] - 0s 2ms/step - loss: 0.0038 - accuracy: 1.0000\n",
      "Epoch 114/200\n",
      "1/1 [==============================] - 0s 2ms/step - loss: 0.0011 - accuracy: 1.0000\n",
      "Epoch 115/200\n",
      "1/1 [==============================] - 0s 2ms/step - loss: 9.2852e-04 - accuracy: 1.0000\n",
      "Epoch 116/200\n",
      "1/1 [==============================] - 0s 2ms/step - loss: 3.4993e-04 - accuracy: 1.0000\n",
      "Epoch 117/200\n",
      "1/1 [==============================] - 0s 2ms/step - loss: 0.0021 - accuracy: 1.0000\n",
      "Epoch 118/200\n",
      "1/1 [==============================] - 0s 2ms/step - loss: 2.7503e-04 - accuracy: 1.0000\n",
      "Epoch 119/200\n",
      "1/1 [==============================] - 0s 3ms/step - loss: 1.8389e-04 - accuracy: 1.0000\n",
      "Epoch 120/200\n",
      "1/1 [==============================] - 0s 2ms/step - loss: 2.1628e-04 - accuracy: 1.0000\n",
      "Epoch 121/200\n",
      "1/1 [==============================] - 0s 3ms/step - loss: 0.0031 - accuracy: 1.0000\n",
      "Epoch 122/200\n",
      "1/1 [==============================] - 0s 4ms/step - loss: 5.9652e-04 - accuracy: 1.0000\n",
      "Epoch 123/200\n",
      "1/1 [==============================] - 0s 4ms/step - loss: 4.2035e-04 - accuracy: 1.0000\n",
      "Epoch 124/200\n",
      "1/1 [==============================] - 0s 3ms/step - loss: 2.7772e-04 - accuracy: 1.0000\n",
      "Epoch 125/200\n",
      "1/1 [==============================] - 0s 3ms/step - loss: 6.6558e-05 - accuracy: 1.0000\n",
      "Epoch 126/200\n",
      "1/1 [==============================] - 0s 3ms/step - loss: 5.2018e-04 - accuracy: 1.0000\n",
      "Epoch 127/200\n",
      "1/1 [==============================] - 0s 3ms/step - loss: 0.0035 - accuracy: 1.0000\n",
      "Epoch 128/200\n",
      "1/1 [==============================] - 0s 2ms/step - loss: 3.5325e-05 - accuracy: 1.0000\n",
      "Epoch 129/200\n",
      "1/1 [==============================] - 0s 2ms/step - loss: 3.0009e-04 - accuracy: 1.0000\n",
      "Epoch 130/200\n",
      "1/1 [==============================] - 0s 2ms/step - loss: 0.0029 - accuracy: 1.0000\n",
      "Epoch 131/200\n",
      "1/1 [==============================] - 0s 2ms/step - loss: 1.7313e-04 - accuracy: 1.0000\n",
      "Epoch 132/200\n",
      "1/1 [==============================] - 0s 2ms/step - loss: 0.0010 - accuracy: 1.0000\n",
      "Epoch 133/200\n",
      "1/1 [==============================] - 0s 2ms/step - loss: 7.2450e-05 - accuracy: 1.0000\n",
      "Epoch 134/200\n",
      "1/1 [==============================] - 0s 4ms/step - loss: 4.7316e-04 - accuracy: 1.0000\n",
      "Epoch 135/200\n",
      "1/1 [==============================] - 0s 5ms/step - loss: 0.0017 - accuracy: 1.0000\n",
      "Epoch 136/200\n",
      "1/1 [==============================] - 0s 4ms/step - loss: 7.3737e-04 - accuracy: 1.0000\n",
      "Epoch 137/200\n",
      "1/1 [==============================] - 0s 430ms/step - loss: 3.4012e-04 - accuracy: 1.0000\n",
      "Epoch 138/200\n",
      "1/1 [==============================] - 0s 4ms/step - loss: 0.0062 - accuracy: 1.0000\n",
      "Epoch 139/200\n",
      "1/1 [==============================] - 0s 7ms/step - loss: 4.3670e-04 - accuracy: 1.0000\n",
      "Epoch 140/200\n",
      "1/1 [==============================] - 0s 5ms/step - loss: 6.6403e-04 - accuracy: 1.0000\n",
      "Epoch 141/200\n",
      "1/1 [==============================] - 0s 3ms/step - loss: 0.0015 - accuracy: 1.0000\n",
      "Epoch 142/200\n",
      "1/1 [==============================] - 0s 4ms/step - loss: 8.1495e-05 - accuracy: 1.0000\n",
      "Epoch 143/200\n",
      "1/1 [==============================] - 0s 3ms/step - loss: 0.0027 - accuracy: 1.0000\n",
      "Epoch 144/200\n",
      "1/1 [==============================] - 0s 3ms/step - loss: 0.0025 - accuracy: 1.0000\n",
      "Epoch 145/200\n",
      "1/1 [==============================] - 0s 3ms/step - loss: 0.0014 - accuracy: 1.0000\n",
      "Epoch 146/200\n",
      "1/1 [==============================] - 0s 3ms/step - loss: 0.0057 - accuracy: 1.0000\n",
      "Epoch 147/200\n",
      "1/1 [==============================] - 0s 4ms/step - loss: 3.3005e-05 - accuracy: 1.0000\n",
      "Epoch 148/200\n",
      "1/1 [==============================] - 0s 3ms/step - loss: 1.7367e-04 - accuracy: 1.0000\n",
      "Epoch 149/200\n",
      "1/1 [==============================] - 0s 4ms/step - loss: 1.5037e-04 - accuracy: 1.0000\n",
      "Epoch 150/200\n",
      "1/1 [==============================] - 0s 3ms/step - loss: 0.0053 - accuracy: 1.0000\n",
      "Epoch 151/200\n",
      "1/1 [==============================] - 0s 3ms/step - loss: 1.1654e-04 - accuracy: 1.0000\n",
      "Epoch 152/200\n",
      "1/1 [==============================] - 0s 4ms/step - loss: 5.3104e-05 - accuracy: 1.0000\n",
      "Epoch 153/200\n",
      "1/1 [==============================] - 0s 6ms/step - loss: 6.4440e-04 - accuracy: 1.0000\n",
      "Epoch 154/200\n",
      "1/1 [==============================] - 0s 4ms/step - loss: 5.4024e-05 - accuracy: 1.0000\n",
      "Epoch 155/200\n",
      "1/1 [==============================] - 0s 4ms/step - loss: 3.9913e-04 - accuracy: 1.0000\n",
      "Epoch 156/200\n",
      "1/1 [==============================] - 0s 3ms/step - loss: 1.3027e-04 - accuracy: 1.0000\n",
      "Epoch 157/200\n",
      "1/1 [==============================] - 0s 4ms/step - loss: 8.9277e-06 - accuracy: 1.0000\n",
      "Epoch 158/200\n",
      "1/1 [==============================] - 0s 4ms/step - loss: 5.4253e-05 - accuracy: 1.0000\n",
      "Epoch 159/200\n",
      "1/1 [==============================] - 0s 3ms/step - loss: 6.1356e-05 - accuracy: 1.0000\n",
      "Epoch 160/200\n",
      "1/1 [==============================] - 0s 3ms/step - loss: 6.5099e-04 - accuracy: 1.0000\n",
      "Epoch 161/200\n",
      "1/1 [==============================] - 0s 4ms/step - loss: 4.9036e-05 - accuracy: 1.0000\n",
      "Epoch 162/200\n",
      "1/1 [==============================] - 0s 3ms/step - loss: 8.2739e-04 - accuracy: 1.0000\n",
      "Epoch 163/200\n",
      "1/1 [==============================] - 0s 3ms/step - loss: 5.5751e-04 - accuracy: 1.0000\n",
      "Epoch 164/200\n",
      "1/1 [==============================] - 0s 4ms/step - loss: 2.0870e-04 - accuracy: 1.0000\n",
      "Epoch 165/200\n",
      "1/1 [==============================] - 0s 3ms/step - loss: 4.5785e-04 - accuracy: 1.0000\n",
      "Epoch 166/200\n",
      "1/1 [==============================] - 0s 3ms/step - loss: 2.0666e-04 - accuracy: 1.0000\n",
      "Epoch 167/200\n",
      "1/1 [==============================] - 0s 4ms/step - loss: 5.5057e-04 - accuracy: 1.0000\n",
      "Epoch 168/200\n",
      "1/1 [==============================] - 0s 3ms/step - loss: 6.5250e-06 - accuracy: 1.0000\n",
      "Epoch 169/200\n",
      "1/1 [==============================] - 0s 6ms/step - loss: 5.5883e-04 - accuracy: 1.0000\n",
      "Epoch 170/200\n",
      "1/1 [==============================] - 0s 4ms/step - loss: 0.0011 - accuracy: 1.0000\n",
      "Epoch 171/200\n",
      "1/1 [==============================] - 0s 3ms/step - loss: 3.6877e-04 - accuracy: 1.0000\n",
      "Epoch 172/200\n",
      "1/1 [==============================] - 0s 4ms/step - loss: 0.0151 - accuracy: 1.0000\n",
      "Epoch 173/200\n",
      "1/1 [==============================] - 0s 3ms/step - loss: 1.4864e-04 - accuracy: 1.0000\n",
      "Epoch 174/200\n",
      "1/1 [==============================] - 0s 4ms/step - loss: 1.8632e-04 - accuracy: 1.0000\n",
      "Epoch 175/200\n",
      "1/1 [==============================] - 0s 4ms/step - loss: 0.0011 - accuracy: 1.0000\n",
      "Epoch 176/200\n",
      "1/1 [==============================] - 0s 5ms/step - loss: 1.9043e-04 - accuracy: 1.0000\n",
      "Epoch 177/200\n",
      "1/1 [==============================] - 0s 4ms/step - loss: 1.5706e-04 - accuracy: 1.0000\n",
      "Epoch 178/200\n",
      "1/1 [==============================] - 0s 3ms/step - loss: 1.9007e-04 - accuracy: 1.0000\n",
      "Epoch 179/200\n",
      "1/1 [==============================] - 0s 3ms/step - loss: 3.8516e-05 - accuracy: 1.0000\n",
      "Epoch 180/200\n",
      "1/1 [==============================] - 0s 3ms/step - loss: 0.0055 - accuracy: 1.0000\n",
      "Epoch 181/200\n",
      "1/1 [==============================] - 0s 5ms/step - loss: 6.8577e-05 - accuracy: 1.0000\n",
      "Epoch 182/200\n",
      "1/1 [==============================] - 0s 3ms/step - loss: 7.6041e-06 - accuracy: 1.0000\n",
      "Epoch 183/200\n",
      "1/1 [==============================] - 0s 3ms/step - loss: 9.4517e-05 - accuracy: 1.0000\n",
      "Epoch 184/200\n",
      "1/1 [==============================] - 0s 4ms/step - loss: 2.9239e-04 - accuracy: 1.0000\n",
      "Epoch 185/200\n",
      "1/1 [==============================] - 0s 4ms/step - loss: 6.2229e-04 - accuracy: 1.0000\n",
      "Epoch 186/200\n",
      "1/1 [==============================] - 0s 3ms/step - loss: 1.6518e-05 - accuracy: 1.0000\n",
      "Epoch 187/200\n",
      "1/1 [==============================] - 0s 3ms/step - loss: 1.2763e-04 - accuracy: 1.0000\n",
      "Epoch 188/200\n",
      "1/1 [==============================] - 0s 5ms/step - loss: 9.9130e-04 - accuracy: 1.0000\n",
      "Epoch 189/200\n",
      "1/1 [==============================] - 0s 4ms/step - loss: 1.1563e-05 - accuracy: 1.0000\n",
      "Epoch 190/200\n",
      "1/1 [==============================] - 0s 7ms/step - loss: 1.1513e-04 - accuracy: 1.0000\n",
      "Epoch 191/200\n",
      "1/1 [==============================] - 0s 5ms/step - loss: 2.5542e-04 - accuracy: 1.0000\n",
      "Epoch 192/200\n",
      "1/1 [==============================] - 0s 6ms/step - loss: 2.0203e-06 - accuracy: 1.0000\n",
      "Epoch 193/200\n",
      "1/1 [==============================] - 0s 5ms/step - loss: 4.7660e-05 - accuracy: 1.0000\n",
      "Epoch 194/200\n",
      "1/1 [==============================] - 0s 6ms/step - loss: 6.3310e-04 - accuracy: 1.0000\n",
      "Epoch 195/200\n",
      "1/1 [==============================] - 0s 5ms/step - loss: 4.7372e-04 - accuracy: 1.0000\n",
      "Epoch 196/200\n",
      "1/1 [==============================] - 0s 7ms/step - loss: 1.4414e-04 - accuracy: 1.0000\n",
      "Epoch 197/200\n",
      "1/1 [==============================] - 0s 6ms/step - loss: 3.7663e-05 - accuracy: 1.0000\n",
      "Epoch 198/200\n",
      "1/1 [==============================] - 0s 6ms/step - loss: 5.0144e-04 - accuracy: 1.0000\n",
      "Epoch 199/200\n",
      "1/1 [==============================] - 0s 6ms/step - loss: 3.8103e-04 - accuracy: 1.0000\n",
      "Epoch 200/200\n",
      "1/1 [==============================] - 0s 5ms/step - loss: 1.2611e-05 - accuracy: 1.0000\n"
     ]
    },
    {
     "data": {
      "text/plain": [
       "<tensorflow.python.keras.callbacks.History at 0x7f38180890a0>"
      ]
     },
     "execution_count": 60,
     "metadata": {},
     "output_type": "execute_result"
    }
   ],
   "source": [
    "## defind the parameters \n",
    "\n",
    "input_shape = (len(train_x[0]),)\n",
    "output_shape = len(train_y[0])\n",
    "\n",
    "epochs = 2000\n",
    "\n",
    "## deep learning the modelo\n",
    "\n",
    "model =  Sequential()\n",
    "model.add(Dense(128,input_shape = input_shape,activation='relu',))\n",
    "model.add(Dropout(0.5))\n",
    "model.add(Dense(64,activation='relu'))\n",
    "model.add(Dropout(0.3))\n",
    "model.add(Dense(output_shape,activation='softmax'))\n",
    "\n",
    "\n",
    "\n",
    "adam =  tf.keras.optimizers.Adam(learning_rate=0.01,decay=1e-6)\n",
    "model.compile(loss='categorical_crossentropy',\n",
    "             optimizer=adam,\n",
    "             metrics=['accuracy'])\n",
    "\n",
    "print(model.summary)\n",
    "model.fit(x=train_x ,y=train_y , epochs =200,verbose=1)"
   ]
  },
  {
   "cell_type": "code",
   "execution_count": 82,
   "id": "af96e0b3-a5ac-4e01-86c9-994f16f80b87",
   "metadata": {},
   "outputs": [],
   "source": [
    "def clean_text(text):\n",
    "    \n",
    "    tokens = nltk.word_tokenize(text)\n",
    "    tokens = [lemmatizer.lemmatize(word) for word in tokens]\n",
    "    return tokens\n",
    "\n",
    "def bag_og_words(text,vocab):\n",
    "    \n",
    "    tokens = clean_text(text)\n",
    "    bow = [0] * len(vocab)\n",
    "    \n",
    "    for w in tokens:\n",
    "        \n",
    "        for idx , word in enumerate(vocab):\n",
    "            if word ==w :\n",
    "                bow[idx] = 1\n",
    "    return np.array(bow)\n",
    "\n",
    "def pred_class(text, vacab,labels):\n",
    "    \n",
    "    bow = bag_og_words(text,vacab)\n",
    "    result =  model.predict(np.array([bow]))[0]\n",
    "    \n",
    "    thresh = 0.2\n",
    "    \n",
    "    y_pred = [[idx,res]  for idx,res in enumerate(result) if res > thresh]\n",
    "    \n",
    "    y_pred.sort(key=lambda x:x[1] , reverse=True)\n",
    "    \n",
    "    return_list = []\n",
    "    \n",
    "    for r in y_pred:\n",
    "        return_list.append(labels[r[0]])\n",
    "        \n",
    "    return return_list\n",
    "\n",
    "def get_response(intents_list , intents_json):\n",
    "    \n",
    "    tag = intents_list[0]\n",
    "    \n",
    "    list_of_intents  = intents_json['intents']\n",
    "    \n",
    "    for i in list_of_intents:\n",
    "        if i['tag'] == tag:\n",
    "            result = random.choice(i[\"responses\"])\n",
    "            break\n",
    "    return result"
   ]
  },
  {
   "cell_type": "code",
   "execution_count": 83,
   "id": "da12ec71-9817-4e75-87bc-3bbcf712294a",
   "metadata": {},
   "outputs": [],
   "source": [
    "## running chatbot"
   ]
  },
  {
   "cell_type": "code",
   "execution_count": null,
   "id": "f81e5e85-0031-4914-bbf6-4f5fed2e6f32",
   "metadata": {},
   "outputs": [
    {
     "name": "stdin",
     "output_type": "stream",
     "text": [
      " hy\n"
     ]
    },
    {
     "name": "stdout",
     "output_type": "stream",
     "text": [
      "See you later\n"
     ]
    },
    {
     "name": "stdin",
     "output_type": "stream",
     "text": [
      " your name?\n"
     ]
    },
    {
     "name": "stdout",
     "output_type": "stream",
     "text": [
      "My name is Kippi\n"
     ]
    },
    {
     "name": "stdin",
     "output_type": "stream",
     "text": [
      " your brother name ?\n"
     ]
    },
    {
     "name": "stdout",
     "output_type": "stream",
     "text": [
      "My name is Kippi\n"
     ]
    },
    {
     "name": "stdin",
     "output_type": "stream",
     "text": [
      " are you free?\n"
     ]
    },
    {
     "name": "stdout",
     "output_type": "stream",
     "text": [
      "I'm Kippi\n"
     ]
    },
    {
     "name": "stdin",
     "output_type": "stream",
     "text": [
      " hy\n"
     ]
    },
    {
     "name": "stdout",
     "output_type": "stream",
     "text": [
      "It was nice speaking to you\n"
     ]
    }
   ],
   "source": [
    "while True:\n",
    "    message  = input(\"\")\n",
    "    intent = pred_class(message , words ,classes)\n",
    "    result = get_response(intent,Data)\n",
    "    print(result)"
   ]
  },
  {
   "cell_type": "code",
   "execution_count": 79,
   "id": "8db2d67d-1894-49b3-a336-d9af08f96f3f",
   "metadata": {},
   "outputs": [
    {
     "name": "stdout",
     "output_type": "stream",
     "text": [
      "my\n",
      "name\n",
      "id\n",
      "munhammad\n",
      "fitiahar\n",
      "['my', 'name', 'id', 'munhammad', 'fitiahar']\n"
     ]
    }
   ],
   "source": [
    "text = \"my name id munhammad fitiahar\"\n",
    "t = nltk.word_tokenize(text)\n",
    "for i in t: \n",
    "    print(lemmatizer.lemmatize(i))\n",
    "    \n",
    "print(t)\n"
   ]
  },
  {
   "cell_type": "code",
   "execution_count": null,
   "id": "bc3bbf3b-eea6-457d-af12-4a9878652a3b",
   "metadata": {},
   "outputs": [],
   "source": []
  },
  {
   "cell_type": "code",
   "execution_count": 78,
   "id": "bcddbd32-fccb-44e4-9d67-2fc96299ac2a",
   "metadata": {},
   "outputs": [
    {
     "data": {
      "text/plain": [
       "'singing '"
      ]
     },
     "execution_count": 78,
     "metadata": {},
     "output_type": "execute_result"
    }
   ],
   "source": [
    "\n"
   ]
  },
  {
   "cell_type": "code",
   "execution_count": null,
   "id": "f8c2bf3b-d415-45a5-92f5-88d438727923",
   "metadata": {},
   "outputs": [],
   "source": []
  }
 ],
 "metadata": {
  "kernelspec": {
   "display_name": "Python 3",
   "language": "python",
   "name": "python3"
  },
  "language_info": {
   "codemirror_mode": {
    "name": "ipython",
    "version": 3
   },
   "file_extension": ".py",
   "mimetype": "text/x-python",
   "name": "python",
   "nbconvert_exporter": "python",
   "pygments_lexer": "ipython3",
   "version": "3.8.3"
  }
 },
 "nbformat": 4,
 "nbformat_minor": 5
}
